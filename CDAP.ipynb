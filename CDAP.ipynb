{
 "cells": [
  {
   "cell_type": "code",
   "execution_count": 21,
   "metadata": {},
   "outputs": [
    {
     "name": "stdout",
     "output_type": "stream",
     "text": [
      "{'ci_age_group_bg': {'young': 1.0, 'adult': 0.0, 'senior': 0.0}, 'ci_metabolic_syndrome_bg': {'FALSE': 0.17357659339904785, 'TRUE': 0.8264234066009521}, 'ci_sys_immune_resp_bl': {'low': 0.11625581234693527, 'moderate': 0.7195433974266052, 'high': 0.1642008125782013}, 'ci_chronic_pul_disease_bg': {'FALSE': 0.9043565392494202, 'TRUE': 0.09564346075057983}, 'ci_antiviral_treat_bl': {'FALSE': 0.4374786913394928, 'TRUE': 0.5625213384628296}, 'ci_antiinflam_treat_bl': {'FALSE': 0.11872821301221848, 'TRUE': 0.8812717795372009}, 'ci_diabetes_bg': {'FALSE': 0.8082220554351807, 'yesnocomplications': 0.12916521728038788, 'yescomplications': 0.06261273473501205}, 'ci_smoking_history_bg': {'never': 0.6895369291305542, 'exsmoker': 0.1640138030052185, 'smoker': 0.14644929766654968}, 'ci_anticoag_treat_bl': {'FALSE': 0.0006338548846542835, 'TRUE': 0.9993661642074585}, 'ci_coagulation_bl': {'abnormal': 0.2557019889354706, 'normal': 0.7442980408668518}, 'ci_end_organ_perf_bl': {'low': 0.10001686215400696, 'normal': 0.8999831080436707}, 'ci_func_pul_bl': {'abnormal': 0.19512253999710083, 'normal': 0.8048774600028992}, 'ci_hypoxaemia_bl': {'verylow': 0.13607993721961975, 'low': 0.3736523389816284, 'normal': 0.4902677536010742}, 'ci_chronic_cardiac_disease_bg': {'FALSE': 0.7527655959129333, 'TRUE': 0.24723438918590546}, 'ci_intravas_volume_bl': {'low': 0.10909661650657654, 'normal': 0.8909034132957458}, 'ci_func_car_bl': {'abnormal': 0.20069476962089539, 'normal': 0.7993052005767822}, 'ci_sys_immune_resp_day10': {'low': 0.10869108885526657, 'moderate': 0.6916265487670898, 'high': 0.19968236982822418}, 'ci_anticoag_treat_day10': {'FALSE': 0.001050763064995408, 'TRUE': 0.9989492297172546}, 'ci_antiviral_treat_day10': {'FALSE': 0.0015603951178491116, 'TRUE': 0.998439610004425}, 'ci_antiinflam_treat_day10': {'FALSE': 0.01879328303039074, 'TRUE': 0.9812067151069641}, 'ci_coagulation_day10': {'abnormal': 0.28705036640167236, 'normal': 0.7129496335983276}, 'ci_cardiac_output_bl': {'high': 0.0001659353874856606, 'low': 0.0070473006926476955, 'normal': 0.9927867650985718}, 'ci_end_organ_perf_day10': {'low': 0.13829602301120758, 'normal': 0.8617039918899536}, 'ci_func_pul_day10': {'abnormal': 0.2173181176185608, 'normal': 0.7826818823814392}, 'ci_ventilator_bl': {'FALSE': 0.9998548030853271, 'TRUE': 0.0001452182186767459}, 'ci_hypoxaemia_day10': {'verylow': 0.27377548813819885, 'low': 0.43555769324302673, 'normal': 0.290666788816452}, 'ci_intravas_volume_day10': {'low': 0.17721018195152283, 'normal': 0.8227897882461548}, 'ci_func_car_day10': {'abnormal': 0.23701396584510803, 'normal': 0.7629860043525696}, 'ci_death_day10': {'FALSE': 0.9521848559379578, 'TRUE': 0.047815121710300446}, 'ci_cardiac_output_day10': {'high': 9.676840272732079e-05, 'low': 0.021809179335832596, 'normal': 0.9780940413475037}, 'ci_ventilator_day10': {'FALSE': 0.7048544883728027, 'TRUE': 0.2951454818248749}}\n"
     ]
    },
    {
     "name": "stderr",
     "output_type": "stream",
     "text": [
      "Running model with output: {'ci_age_group_bg': 'young'}\n",
      "setting evidence for node: ci_age_group_bg with value:  young\n",
      "output:  [1.0, 0.0, 0.0]\n",
      "    state name: young\n",
      "    state name: adult\n",
      "    state name: senior\n"
     ]
    }
   ],
   "source": [
    "import importlib\n",
    "import bn_project\n",
    "\n",
    "#Sample paramater dictionary - set from JSON string\n",
    "param_dict = {'ci_age_group_bg': 'young'}\n",
    "\n",
    "importlib.reload(bn_project)\n",
    "output = bn_project.updateBn(param_dict)\n",
    "\n",
    "print (output)\n"
   ]
  },
  {
   "cell_type": "code",
   "execution_count": null,
   "metadata": {},
   "outputs": [],
   "source": []
  },
  {
   "cell_type": "code",
   "execution_count": null,
   "metadata": {},
   "outputs": [],
   "source": []
  }
 ],
 "metadata": {
  "kernelspec": {
   "display_name": "Python 3",
   "language": "python",
   "name": "python3"
  },
  "language_info": {
   "codemirror_mode": {
    "name": "ipython",
    "version": 3
   },
   "file_extension": ".py",
   "mimetype": "text/x-python",
   "name": "python",
   "nbconvert_exporter": "python",
   "pygments_lexer": "ipython3",
   "version": "3.8.3"
  }
 },
 "nbformat": 4,
 "nbformat_minor": 4
}
