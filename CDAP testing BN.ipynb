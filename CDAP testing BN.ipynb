{
 "cells": [
  {
   "cell_type": "code",
   "execution_count": 6,
   "metadata": {},
   "outputs": [
    {
     "name": "stdout",
     "output_type": "stream",
     "text": [
      "outputting node: Sepsis_1\n",
      "outputting node: UpperRespTract_1\n",
      "outputting node: LowerRespTract_1\n",
      "outputting node: UrinaryTract_1\n",
      "outputting node: Meningitis_1\n",
      "outputting node: Copy_of_Causative_organism\n",
      "{'UpperRespTract_1': 0.1527341902256012, 'LowerRespTract_1': 0.20316988229751587, 'UrinaryTract_1': 0.8482613563537598, 'Sepsis_1': 0.023195672780275345, 'Meningitis_1': 0.003034325549378991}\n",
      "{'Bacteria': 0.697887122631073, 'Virus': 0.22553861141204834, 'None': 0.07657429575920105}\n"
     ]
    },
    {
     "name": "stderr",
     "output_type": "stream",
     "text": [
      "Running model with output: {'Age': 'Adult', 'Dysuria_1': 'Recorded'}\n",
      "setting evidence for node: Age with value:  Adult\n",
      "output:  [0.0, 1.0, 0.0]\n",
      "    state name: Child\n",
      "    state name: Adult\n",
      "    state name: OlderAdult\n",
      "setting evidence for node: Dysuria_1 with value:  Recorded\n",
      "output:  [1.0, 0.0]\n",
      "    state name: Recorded\n",
      "    state name: Unknown\n"
     ]
    }
   ],
   "source": [
    "import importlib\n",
    "import bn_project\n",
    "\n",
    "#Sample paramater dictionary - set from JSON string\n",
    "#param_dict = {'Age': 'Child', 'Dysuria_1': 'Recorded'}\n",
    "param_dict = {'Age': 'Adult', 'Dysuria_1': 'Recorded'}\n",
    "\n",
    "importlib.reload(bn_project)\n",
    "output_dict_system, output_dict_pathogen = bn_project.updateBn(param_dict)\n",
    "\n",
    "print (output_dict_system)\n",
    "print (output_dict_pathogen)\n",
    "\n",
    "    "
   ]
  },
  {
   "cell_type": "code",
   "execution_count": null,
   "metadata": {},
   "outputs": [],
   "source": []
  },
  {
   "cell_type": "code",
   "execution_count": null,
   "metadata": {},
   "outputs": [],
   "source": []
  }
 ],
 "metadata": {
  "kernelspec": {
   "display_name": "Python 3",
   "language": "python",
   "name": "python3"
  },
  "language_info": {
   "codemirror_mode": {
    "name": "ipython",
    "version": 3
   },
   "file_extension": ".py",
   "mimetype": "text/x-python",
   "name": "python",
   "nbconvert_exporter": "python",
   "pygments_lexer": "ipython3",
   "version": "3.8.3"
  }
 },
 "nbformat": 4,
 "nbformat_minor": 4
}
