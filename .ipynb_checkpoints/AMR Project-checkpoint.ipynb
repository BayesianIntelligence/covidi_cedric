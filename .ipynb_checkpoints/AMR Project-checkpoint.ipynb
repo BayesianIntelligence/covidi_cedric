{
 "cells": [
  {
   "cell_type": "code",
   "execution_count": 91,
   "metadata": {},
   "outputs": [
    {
     "name": "stdout",
     "output_type": "stream",
     "text": [
      "Running model\n",
      "setting evidence for node: Age\n",
      "output:  [1.0, 0.0, 0.0]\n",
      "    state name: Child\n",
      "    state name: Adult\n",
      "    state name: OlderAdult\n",
      "setting evidence for node: Dysuria_1\n",
      "output:  [1.0, 0.0]\n",
      "    state name: Recorded\n",
      "    state name: Unknown\n",
      "outputting node: Sepsis_1\n",
      "outputting node: UpperRespTract_1\n",
      "outputting node: LowerRespTract_1\n",
      "outputting node: UrinaryTract_1\n",
      "outputting node: Meningitis_1\n",
      "outputting node: Copy_of_Causative_organism\n",
      "{'UpperRespTract_1': 0.30045273900032043, 'LowerRespTract_1': 0.36435338854789734, 'UrinaryTract_1': 0.9824007153511047, 'Sepsis_1': 0.12230566889047623, 'Meningitis_1': 0.028714830055832863}\n",
      "{'Bacteria': 0.9258291125297546, 'Virus': 0.07320907711982727, 'None': 0.0009617858449928463}\n"
     ]
    }
   ],
   "source": [
    "import importlib\n",
    "import amr_project\n",
    "\n",
    "#Sample paramater dictionary - set from JSON string\n",
    "param_dict = {'Age': 'Child', 'Dysuria_1': 'Recorded'}\n",
    "\n",
    "importlib.reload(amr_project)\n",
    "output_dict_system, output_dict_pathogen = amr_project.updateBn(param_dict)\n",
    "\n",
    "print (output_dict_system)\n",
    "print (output_dict_pathogen)\n",
    "    "
   ]
  },
  {
   "cell_type": "code",
   "execution_count": null,
   "metadata": {},
   "outputs": [],
   "source": []
  },
  {
   "cell_type": "code",
   "execution_count": null,
   "metadata": {},
   "outputs": [],
   "source": []
  }
 ],
 "metadata": {
  "kernelspec": {
   "display_name": "Python 3",
   "language": "python",
   "name": "python3"
  },
  "language_info": {
   "codemirror_mode": {
    "name": "ipython",
    "version": 3
   },
   "file_extension": ".py",
   "mimetype": "text/x-python",
   "name": "python",
   "nbconvert_exporter": "python",
   "pygments_lexer": "ipython3",
   "version": "3.8.3"
  }
 },
 "nbformat": 4,
 "nbformat_minor": 4
}
