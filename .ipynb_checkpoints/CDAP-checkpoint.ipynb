{
 "cells": [
  {
   "cell_type": "code",
   "execution_count": 20,
   "metadata": {},
   "outputs": [
    {
     "name": "stderr",
     "output_type": "stream",
     "text": [
      "Running model with output: {'ci_age_group_bg': 'young'}\n",
      "setting evidence for node: ci_age_group_bg with value:  young\n",
      "output:  [1.0, 0.0, 0.0]\n",
      "    state name: young\n",
      "    state name: adult\n",
      "    state name: senior\n"
     ]
    },
    {
     "ename": "ValueError",
     "evalue": "too many values to unpack (expected 9)",
     "output_type": "error",
     "traceback": [
      "\u001b[1;31m---------------------------------------------------------------------------\u001b[0m",
      "\u001b[1;31mValueError\u001b[0m                                Traceback (most recent call last)",
      "\u001b[1;32m<ipython-input-20-82cd11fce91c>\u001b[0m in \u001b[0;36m<module>\u001b[1;34m\u001b[0m\n\u001b[0;32m      6\u001b[0m \u001b[1;33m\u001b[0m\u001b[0m\n\u001b[0;32m      7\u001b[0m \u001b[0mimportlib\u001b[0m\u001b[1;33m.\u001b[0m\u001b[0mreload\u001b[0m\u001b[1;33m(\u001b[0m\u001b[0mbn_project\u001b[0m\u001b[1;33m)\u001b[0m\u001b[1;33m\u001b[0m\u001b[1;33m\u001b[0m\u001b[0m\n\u001b[1;32m----> 8\u001b[1;33m \u001b[0moutput1\u001b[0m\u001b[1;33m,\u001b[0m \u001b[0moutput2\u001b[0m\u001b[1;33m,\u001b[0m \u001b[0moutput3\u001b[0m\u001b[1;33m,\u001b[0m \u001b[0moutput4\u001b[0m\u001b[1;33m,\u001b[0m\u001b[0moutput5\u001b[0m\u001b[1;33m,\u001b[0m \u001b[0moutput6\u001b[0m\u001b[1;33m,\u001b[0m\u001b[0moutput7\u001b[0m\u001b[1;33m,\u001b[0m \u001b[0moutput8\u001b[0m\u001b[1;33m,\u001b[0m\u001b[0moutput9\u001b[0m \u001b[1;33m=\u001b[0m \u001b[0mbn_project\u001b[0m\u001b[1;33m.\u001b[0m\u001b[0mupdateBn\u001b[0m\u001b[1;33m(\u001b[0m\u001b[0mparam_dict\u001b[0m\u001b[1;33m)\u001b[0m\u001b[1;33m\u001b[0m\u001b[1;33m\u001b[0m\u001b[0m\n\u001b[0m\u001b[0;32m      9\u001b[0m \u001b[1;33m\u001b[0m\u001b[0m\n\u001b[0;32m     10\u001b[0m \u001b[0mprint\u001b[0m \u001b[1;33m(\u001b[0m\u001b[0moutput1\u001b[0m\u001b[1;33m)\u001b[0m\u001b[1;33m\u001b[0m\u001b[1;33m\u001b[0m\u001b[0m\n",
      "\u001b[1;31mValueError\u001b[0m: too many values to unpack (expected 9)"
     ]
    }
   ],
   "source": [
    "import importlib\n",
    "import bn_project\n",
    "\n",
    "#Sample paramater dictionary - set from JSON string\n",
    "param_dict = {'ci_age_group_bg': 'young'}\n",
    "\n",
    "importlib.reload(bn_project)\n",
    "output = bn_project.updateBn(param_dict)\n",
    "\n",
    "print (output)\n"
   ]
  },
  {
   "cell_type": "code",
   "execution_count": null,
   "metadata": {},
   "outputs": [],
   "source": []
  },
  {
   "cell_type": "code",
   "execution_count": null,
   "metadata": {},
   "outputs": [],
   "source": []
  }
 ],
 "metadata": {
  "kernelspec": {
   "display_name": "Python 3",
   "language": "python",
   "name": "python3"
  },
  "language_info": {
   "codemirror_mode": {
    "name": "ipython",
    "version": 3
   },
   "file_extension": ".py",
   "mimetype": "text/x-python",
   "name": "python",
   "nbconvert_exporter": "python",
   "pygments_lexer": "ipython3",
   "version": "3.8.3"
  }
 },
 "nbformat": 4,
 "nbformat_minor": 4
}
